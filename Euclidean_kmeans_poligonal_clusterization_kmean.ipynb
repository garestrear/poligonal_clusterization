{
  "nbformat": 4,
  "nbformat_minor": 0,
  "metadata": {
    "colab": {
      "name": "Euclidean_kmeans_poligonal_clusterization_kmean.ipynb",
      "provenance": [],
      "collapsed_sections": [],
      "mount_file_id": "18HMoanOgKqxaPWR-kroYHELURg2_-aia",
      "authorship_tag": "ABX9TyMGjKuhO7A57IvYvyay0Azw",
      "include_colab_link": true
    },
    "kernelspec": {
      "name": "python3",
      "display_name": "Python 3"
    }
  },
  "cells": [
    {
      "cell_type": "markdown",
      "metadata": {
        "id": "view-in-github",
        "colab_type": "text"
      },
      "source": [
        "<a href=\"https://colab.research.google.com/github/garestrear/poligonal_clusterization/blob/master/Euclidean_kmeans_poligonal_clusterization_kmean.ipynb\" target=\"_parent\"><img src=\"https://colab.research.google.com/assets/colab-badge.svg\" alt=\"Open In Colab\"/></a>"
      ]
    },
    {
      "cell_type": "markdown",
      "metadata": {
        "id": "UUlcr3wPJrqp"
      },
      "source": [
        "# Poligonal clusterization using kmeans with Euclidean Distance distance.\n",
        "By Gustavo Restrepo. August 2020\n",
        "\n",
        "# Explicación del código\n",
        "Se realiza clusterización de la base de datos por el método kmeans. Se usa la distancia euclidea.\n",
        "\n",
        "Sobre la poligonales de la Base de Datoos se sabe lo siguiente:\n",
        "\n",
        "*   Poseen propiedades \"deseables\" para ser usadas en el ajuste de curvas, por ejemplo permiten la  instalación de una malla ortogonal sobre regiones \"irregulares\".\n",
        "*   Presentan características similares (concavidad, longitud, distribución de puntos, simples,...)\n",
        "*   Puntos aproximadamente equiespaciados (en la mayoría de los casos)\n",
        "*   Los puntos se encentran almacenados en una matriz compleja $ 40000\\times 15$\n",
        "\n",
        "Algunas necesidas de clusterizar estas poligonales:\n",
        "\n",
        "*   Se realizan procesos de comparación de segmentos de curva con las poligonales, ¡muchos!. Lo cual es costoso e ineficiente.\n",
        "*   Detección de outliers en la base de datos de poligonales\n",
        "*   Necesidad de conocer a fondo la base de datos de poligonales para implemntar mejoras.\n",
        "\n",
        "\n",
        "\n",
        "\n",
        "\n",
        "\n",
        "\n",
        "\n",
        "\n",
        "\n",
        "\n"
      ]
    },
    {
      "cell_type": "markdown",
      "metadata": {
        "id": "ICgcthCsp1dt"
      },
      "source": [
        "\n",
        "##**Problem:**\n",
        "\n",
        "We want to clusterizate a set of poligonal curves. All of this are standarized in such way that the first point is always (0,0) and the end point is (1,0). \n",
        "\n",
        "## **Principal Tools:**\n",
        "### **1. kmeans**\n",
        "K-Means is a very simple clustering algorithm (clustering belongs to unsupervised learning). Given a fixed number of clusters and an input dataset the algorithm tries to partition the data into clusters such that the clusters have high intra-class similarity and low inter-class similarity. Here we uses an easy and understandable implementation made for bantak (Git-Hub account of the code author).\n",
        "\n",
        "#### Algorithm\n",
        "\n",
        "1. Initialize the cluster centers, either randomly within the range of the input data or (recommended) with some of the existing training examples\n",
        "\n",
        "2. Until convergence  \n",
        "\n",
        "   2.1. Assign each datapoint to the closest cluster. The distance between a point and cluster center is measured using diferents distances.  \n",
        "\n",
        "   2.2. Update the current estimates of the cluster centers by setting them to the mean of all instance belonging to that cluster  \n",
        "   \n",
        "   \n",
        "#### Objective function\n",
        "\n",
        "The underlying objective function tries to find cluster centers such that, if the data are partitioned into the corresponding clusters, distances between data points and their closest cluster centers become as small as possible.\n",
        "\n",
        "Given a set of datapoints ${x_1, ..., x_n}$ and a positive number $k$, find the clusters $C_1, ..., C_k$ that minimize\n",
        "\n",
        "\\begin{equation}\n",
        "J = \\sum_{i=1}^n \\, \\sum_{j=1}^k \\, z_{ij} \\, || x_i - \\mu_j ||_2\n",
        "\\end{equation}\n",
        "\n",
        "where:  \n",
        "- $z_{ij} \\in \\{0,1\\}$ defines whether of not datapoint $x_i$ belongs to cluster $C_j$\n",
        "- $\\mu_j$ denotes the cluster center of cluster $C_j$\n",
        "- $|| \\, ||_2$ denotes the Euclidean distance\n",
        "\n",
        "### Disadvantages of K-Means\n",
        "- The number of clusters has to be set in the beginning\n",
        "- The results depend on the inital cluster centers\n",
        "- It's sensitive to outliers\n",
        "- It's not guaranteed to find a global optimum, so it can get stuck in a local minimum"
      ]
    },
    {
      "cell_type": "markdown",
      "metadata": {
        "id": "fwabh3hwRIBU"
      },
      "source": [
        "##  Librerías"
      ]
    },
    {
      "cell_type": "code",
      "metadata": {
        "id": "Q-QPG_wMPgQp"
      },
      "source": [
        "# Cargamos las librerias\n",
        "import numpy as np\n",
        "import matplotlib.pyplot as plt\n",
        "import matplotlib.cm as cm\n",
        "from sklearn import metrics\n",
        "from sklearn import datasets\n",
        "from sklearn.preprocessing import scale\n",
        "from sklearn.cluster import KMeans\n",
        "from sklearn.cluster import AgglomerativeClustering\n",
        "from sklearn.metrics import pairwise_distances, silhouette_samples, silhouette_score\n",
        "import scipy.io as spio\n",
        "import scipy.cluster.hierarchy as sch\n",
        "import pylab as pl\n",
        "import pandas as pd\n",
        "from google.colab import drive\n",
        " \n"
      ],
      "execution_count": null,
      "outputs": []
    },
    {
      "cell_type": "markdown",
      "metadata": {
        "id": "mC2z6c9XY87G"
      },
      "source": [
        "### DATA\n",
        "We use a database with polygonal curves extracted by discretization of lemniscates, ellipses and hyperbolas. It has 25079 curves.\n",
        "\n"
      ]
    },
    {
      "cell_type": "code",
      "metadata": {
        "id": "g2NJNYw-tXU8",
        "colab": {
          "base_uri": "https://localhost:8080/"
        },
        "outputId": "d0ac7b9b-d6d6-4a46-b1a3-051f356ac5ee"
      },
      "source": [
        "# Cargamos la base de datos (está en un repositorio en GitHub)\n",
        "!git clone https://github.com/garestrear/poligonal_clusterization.git\n",
        "mat=spio.loadmat('poligonal_clusterization/BD .mat',squeeze_me=True)\n",
        "a=mat['curvasN'] # Es necesario convertirlos a tipo \"complex\" pues se cargan tipo str\n",
        "X_numpy=np.array(a,dtype = np.complex) # luego los conver a tipo \"array\"\n"
      ],
      "execution_count": null,
      "outputs": [
        {
          "output_type": "stream",
          "text": [
            "Cloning into 'poligonal_clusterization'...\n",
            "remote: Enumerating objects: 127, done.\u001b[K\n",
            "remote: Counting objects: 100% (127/127), done.\u001b[K\n",
            "remote: Compressing objects: 100% (126/126), done.\u001b[K\n",
            "remote: Total 127 (delta 63), reused 0 (delta 0), pack-reused 0\u001b[K\n",
            "Receiving objects: 100% (127/127), 50.51 MiB | 15.32 MiB/s, done.\n",
            "Resolving deltas: 100% (63/63), done.\n"
          ],
          "name": "stdout"
        }
      ]
    },
    {
      "cell_type": "markdown",
      "metadata": {
        "id": "bMJPIPRV__Y-"
      },
      "source": [
        "# Funciones adicionales\n",
        "\n",
        "\n",
        "*   Función ***dist_pol***: para calcular la distancia de una poligonal a un conjunto\n",
        "*   Función ***paint_cluster***: para pintar un cluster dado\n",
        "* Función para calclar la longitud de las poligonales y usarlas para controlar la \"semilla\" en la clusterización\n",
        "\n"
      ]
    },
    {
      "cell_type": "code",
      "metadata": {
        "id": "pXs6fd2_rCUS"
      },
      "source": [
        "## Funciones creadas para este código\n",
        "# función que calcula la distancia de una poligonal a un conjunto de poligonales \n",
        "# almacenadas como las finals de un array\n",
        "def dist_pol(cpol1, MatPol):\n",
        "    '''# Esta función calcula la distancia entre una poligonal y una matriz de poligonales\n",
        "    úsela así [mean_dist, dist]=dist_pol(cpol1,MatPol) y obtenga la distancia promedio de \n",
        "    la poligonal a las demás poligonales del cluster y la distancia mínima '''\n",
        "    r=MatPol-cpol1\n",
        "    d2=np.apply_along_axis(np.linalg.norm,1,r)\n",
        "    dist=min(d2)\n",
        "    mean_dist=np.mean(d2)\n",
        "    return mean_dist, dist\n",
        "\n",
        "def paint_cluster(ncluster,clusters_pack):\n",
        "  '''# Use esta función así paint_cluster(ncluster,clusters_pack)\n",
        "  # recuerde que para obtener clusters_pack use\n",
        "  # clusters_pack= [X_numpy[labels==i] for i in range(cluster_number)]'''\n",
        "  X_numpy_C=clusters_pack[ncluster]\n",
        "  X=X_numpy_C.real\n",
        "  Y=X_numpy_C.imag\n",
        "  # Pintamos\n",
        "  plt.axis('equal')\n",
        "  plt.plot(np.transpose(X),np.transpose(Y))\n",
        "  plt.suptitle(('Cluster número %d ' % ncluster, len(X)),fontsize=28, fontweight='bold')\n",
        "\n",
        "def longitudes_pol(Mat_pol):\n",
        "    long_pol=list()\n",
        "    for pol in Mat_pol:\n",
        "        l=np.sum(np.abs(pol[0:-1]-pol[1:]))\n",
        "        long_pol.append(l)\n",
        "    return long_pol"
      ],
      "execution_count": null,
      "outputs": []
    },
    {
      "cell_type": "markdown",
      "metadata": {
        "id": "LS7yrhMc2B-g"
      },
      "source": [
        "## Gráfica de curvas aleatorias"
      ]
    },
    {
      "cell_type": "markdown",
      "metadata": {
        "id": "CwszACdsKJoY"
      },
      "source": [
        "# Representation of the Database\n",
        "We choose in an aleatory way some polygonals to paint"
      ]
    },
    {
      "cell_type": "code",
      "metadata": {
        "id": "LXPsGBkEOhTB",
        "cellView": "both",
        "colab": {
          "base_uri": "https://localhost:8080/",
          "height": 333
        },
        "outputId": "283500dd-db1a-4f6c-d13a-7748772543bc"
      },
      "source": [
        "# Pintamos algunas de esas poligonales\n",
        "N_curvas2paint=400;\n",
        "a=np.random.randint(0,len(X_numpy), N_curvas2paint)\n",
        "b=np.sort(a)\n",
        "#print(b)\n",
        "X=X_numpy.real\n",
        "Y=X_numpy.imag\n",
        "\n",
        "for k in b:\n",
        "  plt.plot(X[k,0:15],Y[k,0:15])\n",
        "\n",
        "#plt.xlim([-1.5, 2.5])\n",
        "#plt.ylim([-1, 3])\n",
        "plt.axis('equal')\n",
        "#plt.margins(x=-0.4,y=-0)"
      ],
      "execution_count": null,
      "outputs": [
        {
          "output_type": "execute_result",
          "data": {
            "text/plain": [
              "(-0.5407854115338708,\n",
              " 1.7293184489270956,\n",
              " -0.49750859854117296,\n",
              " 2.1949806796558633)"
            ]
          },
          "metadata": {
            "tags": []
          },
          "execution_count": 4
        },
        {
          "output_type": "display_data",
          "data": {
            "image/png": "[encoded data removed]",
            "text/plain": [
              "<Figure size 432x288 with 1 Axes>"
            ]
          },
          "metadata": {
            "tags": [],
            "needs_background": "light"
          }
        }
      ]
    },
    {
      "cell_type": "markdown",
      "metadata": {
        "id": "0c_pTsf8GEyq"
      },
      "source": [
        "# Reorganizamos las curvas según su longitud\n"
      ]
    },
    {
      "cell_type": "code",
      "metadata": {
        "id": "6djyp6JzGpP8",
        "colab": {
          "base_uri": "https://localhost:8080/",
          "height": 282
        },
        "outputId": "d9e478fd-fcf6-4438-8650-059c3e00c128"
      },
      "source": [
        "longitudes=longitudes_pol(X_numpy)\n",
        "longitudes2=np.array(longitudes)\n",
        "longitudes3 =np.sort(longitudes2)\n",
        "sort_indices=np.argsort(longitudes2)\n",
        "X_numpy_sort=X_numpy[sort_indices,:]\n",
        "plt.hist(longitudes3, bins=1000)\n",
        "plt.xlim([0,2])\n",
        "print('La longitud máxima es: '+ str(np.max(longitudes3)))\n",
        "plt.show()"
      ],
      "execution_count": null,
      "outputs": [
        {
          "output_type": "stream",
          "text": [
            "La longitud máxima es: 24.875373294937592\n"
          ],
          "name": "stdout"
        },
        {
          "output_type": "display_data",
          "data": {
            "image/png": "[encoded data removed]",
            "text/plain": [
              "<Figure size 432x288 with 1 Axes>"
            ]
          },
          "metadata": {
            "tags": [],
            "needs_background": "light"
          }
        }
      ]
    },
    {
      "cell_type": "markdown",
      "metadata": {
        "id": "uns42WXSNMpZ"
      },
      "source": [
        "Según el histograma anterior un gran número de poligonales tienen longitudes entre 1 y 1.5. Por lo anterior no es conveniente incluir las poligonales con mayor longitud en el proceso de clusterización. En palabras coloquiales estariamos introduciendo \"ruido\"."
      ]
    },
    {
      "cell_type": "markdown",
      "metadata": {
        "id": "-LXYzKdyRqWg"
      },
      "source": [
        "Clusterizamos el 95% de las curvas. \n"
      ]
    },
    {
      "cell_type": "code",
      "metadata": {
        "id": "thJxY_QgRk5v",
        "colab": {
          "base_uri": "https://localhost:8080/",
          "height": 286
        },
        "outputId": "ca181894-8063-45a4-e1af-77d779e6f239"
      },
      "source": [
        "a=0.95*len(X_numpy_sort)\n",
        "indice_final=int(np.floor(a))\n",
        "X_numpy_short=X_numpy_sort[range(indice_final),:]\n",
        "# Hacemos de nuevo el histograma\n",
        "longitudes4 =longitudes3[range(indice_final)]\n",
        "plt.hist(longitudes4, bins=1000)\n",
        "plt.ylim([0,700])\n",
        "print('La longitud máxima es: '+ str(np.max(longitudes4)))\n",
        "plt.show()\n",
        "X_numpy=X_numpy_short"
      ],
      "execution_count": null,
      "outputs": [
        {
          "output_type": "stream",
          "text": [
            "La longitud máxima es: 1.2862175959274942\n"
          ],
          "name": "stdout"
        },
        {
          "output_type": "display_data",
          "data": {
            "image/png": "[encoded data removed]",
            "text/plain": [
              "<Figure size 432x288 with 1 Axes>"
            ]
          },
          "metadata": {
            "tags": [],
            "needs_background": "light"
          }
        }
      ]
    },
    {
      "cell_type": "markdown",
      "metadata": {
        "id": "mJth3_zrzgOC"
      },
      "source": [
        "# Kmeans clusterization"
      ]
    },
    {
      "cell_type": "code",
      "metadata": {
        "id": "Zs-HUTVquH4D",
        "colab": {
          "base_uri": "https://localhost:8080/"
        },
        "outputId": "d15ca33a-353d-4014-b125-e4e703d4b1ac"
      },
      "source": [
        "# Clusterización con kmeans\n",
        "cluster_number = 60\n",
        "X_numpy_r30_2=np.concatenate((X_numpy.real, X_numpy.imag),axis=1)\n",
        "poligonal_number=800\n",
        "np.random.seed(5)\n",
        "indices=np.sort(np.random.choice(len(X_numpy),poligonal_number))\n",
        "X_numpy_r30=X_numpy_r30_2[indices,:]\n",
        "X_numpy=X_numpy[indices,:]\n",
        "\n",
        "kmeans_model = KMeans(n_clusters = cluster_number)\n",
        "kmeans_model.fit(X_numpy_r30)\n",
        "centroides=kmeans_model.cluster_centers_\n",
        "y_km=kmeans_model.fit_predict(X_numpy_r30)\n",
        "labels = kmeans_model.labels_\n",
        "kmeans_Silhuette_coefficient=metrics.silhouette_score(X_numpy_r30, labels, metric='euclidean')\n",
        "# El anterior número da cuenta de la calidad de la clusterización\n",
        "print(kmeans_Silhuette_coefficient)\n",
        "labels2=kmeans_model.labels_"
      ],
      "execution_count": null,
      "outputs": [
        {
          "output_type": "stream",
          "text": [
            "0.31487091657485666\n"
          ],
          "name": "stdout"
        }
      ]
    },
    {
      "cell_type": "markdown",
      "metadata": {
        "id": "eI-gFgmF0U7z"
      },
      "source": [
        "## **Gráficas de codo para determinar un  K  adecuado**\n",
        "Calculate the Within-Cluster-Sum of Squared Errors (WSS) for different values of k, and choose the k for which WSS becomes first starts to diminish. In the plot of WSS-versus-k, this is visible as an elbow.\n",
        "Within-Cluster-Sum of Squared Errors sounds a bit complex. Let’s break it down:\n",
        "\n",
        "\n",
        "*   The Squared Error for each point is the square of the \n",
        "distance of the point from its representation i.e. its predicted cluster center.\n",
        "* The WSS score is the sum of these Squared Errors for all the points.\n",
        "* Any distance metric like the Euclidean Distance or the Manhattan Distance can be used."
      ]
    },
    {
      "cell_type": "code",
      "metadata": {
        "id": "stvIiX15vI0m"
      },
      "source": [
        "WSS = []\n",
        "k_test = range(1,int(np.floor(len(X_numpy)/2)),int(np.floor(0.01*len(X_numpy))))\n",
        "\n",
        "for k in k_test:\n",
        " kmeans_model_test = KMeans(n_clusters = k)\n",
        " kmeans_model_test.fit(X_numpy_r30)\n",
        " WSS.append(kmeans_model_test.inertia_)\n",
        "\n",
        "plt.plot(k_test, WSS, 'bx-')\n",
        "plt.xlabel(\"K\")\n",
        "plt.ylabel(\"WSS\")\n",
        "plt.title(\"Elbow graph\")"
      ],
      "execution_count": null,
      "outputs": []
    },
    {
      "cell_type": "markdown",
      "metadata": {
        "id": "EjtfB6JPgcrU"
      },
      "source": [
        "## **Cálculo de la cantidad de curvas en cada cluster y reorganización de la clusterización**\n"
      ]
    },
    {
      "cell_type": "code",
      "metadata": {
        "id": "TckhNt24DPLp"
      },
      "source": [
        "# algoritmo para reorganización de clusters\n",
        "#labels_aux=labels\n",
        "\n",
        "#for k in range(cluster_number-1):\n",
        " # for j in range(k+1,cluster_number):\n",
        "  #  Numk=len(X_numpy[labels_aux==k])\n",
        "   # Numj=len(X_numpy[labels_aux==j])\n",
        "    #if Numk < Numj:\n",
        "     # a=labels_aux==j\n",
        "      #b=labels_aux==k\n",
        "      #labels_aux[a]=k\n",
        "      #labels_aux[b]=j\n",
        "         \n",
        "#print(labels_aux)\n",
        "#X_numpy_r30=np.concatenate((X_numpy.real, X_numpy.imag),axis=1)\n",
        "labels2=labels\n",
        "# algoritmo para reorganización de clusters\n",
        "labels_aux=labels\n",
        "X_numpy2=X_numpy#[indices,:]\n",
        "for k in range(cluster_number-1):\n",
        "  for j in range(k+1,cluster_number):\n",
        "    Numk=len(X_numpy2[labels_aux==k])\n",
        "    Numj=len(X_numpy2[labels_aux==j])\n",
        "    if Numk < Numj:\n",
        "      a=labels_aux==j\n",
        "      b=labels_aux==k\n",
        "      labels_aux[a]=k\n",
        "      labels_aux[b]=j\n",
        "         \n",
        "print(labels_aux)\n",
        "X_numpy_r30=np.concatenate((X_numpy2.real, X_numpy2.imag),axis=1)\n"
      ],
      "execution_count": null,
      "outputs": []
    },
    {
      "cell_type": "markdown",
      "metadata": {
        "id": "sU4cIoJ9dcDH"
      },
      "source": [
        "# Cluster Visualization. \n",
        "Use la función \n",
        "\n",
        " paint_cluster(ncluster,clusters_pack)\n",
        "\n",
        " Para pintar un cluster, \n",
        " Haga uso de la siguiente celda"
      ]
    },
    {
      "cell_type": "markdown",
      "metadata": {
        "id": "5Q4vRKUh2q1-"
      },
      "source": [
        "## Pintar cluster"
      ]
    },
    {
      "cell_type": "code",
      "metadata": {
        "id": "mzCcCOPVzsJP"
      },
      "source": [
        "from pylab import *\n",
        "clusters_pack2 = [X_numpy2[labels_aux==i] for i in range(cluster_number)]\n",
        "for f in range(cluster_number):\n",
        "  figure(f)\n",
        "  #ncluster=0 # Ponga el número del cluster que desea pintar\n",
        "  paint_cluster(f,clusters_pack2)\n",
        "show()"
      ],
      "execution_count": null,
      "outputs": []
    },
    {
      "cell_type": "markdown",
      "metadata": {
        "id": "WLiE802G89HM"
      },
      "source": [
        "# Silhuette analisis\n",
        "The Silhouette Coefficient is a measure of how well samples are clustered with samples that are similar to themselves. Clustering models with a high Silhouette Coefficient are said to be dense, where samples in the same cluster are similar to each other, and well separated, where samples in different clusters are not very similar to each other.\n",
        "\n",
        "The Silhouette Coefficient is calculated using the mean intra-cluster distance (a) and the mean nearest-cluster distance (b) for each sample. The Silhouette Coefficient for a sample is (b - a) / max(a, b). To clarify, b is the distance between a sample and the nearest cluster that the sample is not a part of. Note that Silhouette Coefficient is only defined if number of labels is 2 <= n_labels <= n_samples - 1.\n",
        "Explicación:\n",
        "Suponga que se ha realizado una clusterización sobre la base de datos.\n",
        "El silhouette coeff. (sc_i) se calcula para cada poligonal. Así:\n",
        "Suponga que tomamos la poligonal i-ésima y que está en el cluster #k (Ck)\n",
        "Paso 1. Se halla el promedio de las distancias de la poligonal i, a todas las poligonales contenidas en el mismo cluster (cluster Ck). Este número se denota por (a_i), i= desde 1 hasta #poligonales.\n",
        "\n",
        "Paso 2. Se halla la distancia promedio de la poligonal i a las poligonales del cluster Cj, con j diferente de k y luego se toma el mínimo de estas distancias promedios. Este número se denota (b_i)\n",
        "Observaciones.\n",
        "Se espera que b_i > a_i. Caso contrario la poligonalestá mal ubicada (Hay un cluster en el que encajaría mejor).\n",
        "El silhuette coeff (sc_i), es: (b_i-a_i)/max(b_i,a_i).\n",
        "El denominador max(b_i,a_i) es un factor de normalización.\n",
        "El caso ideal sería: todos los cluster cumplen que la distancia entre dos de sus elementos es siempre cero y por tanto a_i=0 y la distancia entre elementos de clusters diferentes es siempre mayor que cero. En este caso sc_i=1.\n",
        "El peor caso es cuando dos elementos iguales quedan en diferente cluster y por tanto b_i=0 pero la distancia entre elementos del mismo cluster no es cero así a_i>0. En este caso sc_i=-1.\n",
        "Finalmente el silhuette coeff. (sc) de la clusterización es (b-a)/max(a,b) donde b es promedio de los b_i y a es el promedio de los a_i.\n",
        "\n",
        "\n",
        "The best value is 1 and the worst value is -1. Values near 0 indicate overlapping clusters. Negative values generally indicate that a sample has been assigned to the wrong cluster, as a different cluster is more similar.\n",
        "\n"
      ]
    },
    {
      "cell_type": "markdown",
      "metadata": {
        "id": "yJSO8omYhzee"
      },
      "source": [
        "## Silhuette coefficient for each cluster\n"
      ]
    },
    {
      "cell_type": "markdown",
      "metadata": {
        "id": "9X6icLy9M9EH"
      },
      "source": [
        "### Sihuette coefficients for kmeans"
      ]
    },
    {
      "cell_type": "code",
      "metadata": {
        "id": "CHW2WHO_jF_n"
      },
      "source": [
        "# Arriba se calculó\n",
        "#hc_Silhuette_coefficient=metrics.silhouette_score(X_numpy_r30, labels, metric='euclidean')\n",
        "hc_Silhuette_coefficient=metrics.silhouette_score(X_numpy_r30, labels_aux, metric='euclidean')\n",
        "\n",
        "# El anterior número da cuenta de la calidad de la clusterización\n",
        "silhouette_avg=kmeans_Silhuette_coefficient\n",
        "\n",
        "# Compute the silhouette scores for each sample\n",
        "sample_silhouette_values = silhouette_samples(X_numpy_r30, labels_aux)\n",
        "#print(sample_silhouette_values)\n",
        "fig, ax1 = plt.subplots(1, 1)\n",
        "fig.set_size_inches(36, 100)\n",
        "\n",
        "    # The 1st subplot is the silhouette plot\n",
        "    # The silhouette coefficient can range from -1, 1 but in this example all\n",
        "    # lie within [-0.1, 1]\n",
        "ax1.set_xlim([-0.4, 1])\n",
        "    # The (n_clusters+1)*10 is for inserting blank space between silhouette\n",
        "    # plots of individual clusters, to demarcate them clearly.\n",
        "space_cluster=75\n",
        "ax1.set_ylim([0, len(X_numpy) + (cluster_number + 1) * space_cluster])\n",
        "y_lower = space_cluster\n",
        "color_option=['green', 'blue']\n",
        "for i in range(cluster_number):\n",
        "    # Aggregate the silhouette scores for samples belonging to\n",
        "    # cluster i, and sort them\n",
        "    ith_cluster_silhouette_values = \\\n",
        "      sample_silhouette_values[labels_aux == i]\n",
        "    \n",
        "    ith_cluster_silhouette_values.sort()\n",
        "\n",
        "    size_cluster_i = ith_cluster_silhouette_values.shape[0]\n",
        "    y_upper = y_lower + size_cluster_i\n",
        "    \n",
        "  \n",
        "    #color = cm.nipy_spectral(float(i) / cluster_number)  #Colormap type\n",
        "    color=color_option[i % 2]\n",
        "    ax1.fill_betweenx(np.arange(y_lower, y_upper),\n",
        "                      0, ith_cluster_silhouette_values,\n",
        "                      facecolor=color, edgecolor=color, alpha=0.7)\n",
        "    # Pintamos también el promedio de los coeficientes silhuette en cada cluster\n",
        "    #ax1.axvline(x=silhouette_avg, color=\"red\", linestyle=\"--\")\n",
        "    mpc=np.mean(sample_silhouette_values[labels_aux == i]) #mean per cluster\n",
        "    #ax1.axvline(x=mpc, ymin=y_lower, ymax=y_lower+size_cluster_i, color=\"red\", linestyle=\"--\")\n",
        "    ax1.plot([mpc, mpc],[y_lower, y_lower+size_cluster_i], \\\n",
        "             color=\"green\", linestyle=\"--\",linewidth=4)\n",
        "   \n",
        "   # Label the silhouette plots with their cluster numbers at the middle\n",
        "    if size_cluster_i < 5:\n",
        "      if i % 2 == 1: # para escribir solo los impares\n",
        "        ax1.text(-0.2, y_lower + 0.5 * size_cluster_i, 'C'+str(i)+' with '+str(size_cluster_i),size=20)\n",
        "        ax1.plot([mpc],[y_lower],'og')\n",
        "      else:\n",
        "        ax1.plot([mpc],[y_lower],'og')\n",
        "    elif size_cluster_i < 10:\n",
        "      if i % 2 == 1: # para escribir solo los impares\n",
        "        ax1.text(-0.2, y_lower + 0.5 * size_cluster_i, 'C'+str(i)+' with '+str(size_cluster_i),size=20)\n",
        "        ax1.plot([mpc],[y_lower],'og')\n",
        "      else:\n",
        "        ax1.plot([mpc],[y_lower],'og')\n",
        "    elif size_cluster_i < 20:\n",
        "      if i % 2 == 1: # para escribir solo los impares\n",
        "        ax1.text(-0.2, y_lower + 0.5 * size_cluster_i, 'C'+str(i)+' with '+str(size_cluster_i),size=20)\n",
        "        ax1.plot([mpc],[y_lower],'og')\n",
        "      else:\n",
        "        ax1.plot([mpc],[y_lower],'og')\n",
        "    elif size_cluster_i < 50:\n",
        "      if i % 2 == 1: # para escribir solo los impares\n",
        "        ax1.text(-0.2, y_lower + 0.5 * size_cluster_i, 'C'+str(i)+' with '+str(size_cluster_i),size=20)\n",
        "        ax1.plot([mpc],[y_lower],'og')\n",
        "      else: \n",
        "        ax1.plot([mpc],[y_lower],'og') \n",
        "    elif size_cluster_i < 100:\n",
        "      ax1.text(-0.2, y_lower + 0.5 * size_cluster_i, 'C'+str(i)+' with '+str(size_cluster_i),size=20)\n",
        "    elif size_cluster_i < 500:\n",
        "      ax1.text(-0.2, y_lower + 0.5 * size_cluster_i, 'C'+str(i)+' with '+str(size_cluster_i),size=27)\n",
        "    elif size_cluster_i < 1000:\n",
        "      ax1.text(-0.2, y_lower + 0.5 * size_cluster_i, 'C'+str(i)+' with '+str(size_cluster_i),size=35)\n",
        "    else:\n",
        "      ax1.text(-0.2, y_lower + 0.5 * size_cluster_i, 'C'+str(i)+' with '+str(size_cluster_i),size=40)\n",
        "\n",
        "    # Compute the new y_lower for next plot\n",
        "    y_lower = y_upper + space_cluster  # 10 for the 0 samples\n",
        "\n",
        "ax1.set_title(\"The silhouette plot for the various clusters.\",fontsize=36)\n",
        "ax1.set_xlabel(\"The silhouette coefficient values\",fontsize=36)\n",
        "ax1.set_ylabel(\"Cluster label\",fontsize=36)\n",
        "\n",
        "    # The vertical line for average silhouette score of all the values\n",
        "ax1.axvline(x=silhouette_avg, color=\"red\", linestyle=\"--\")\n",
        "\n",
        "ax1.set_yticks([])  # Clear the yaxis labels / ticks\n",
        "ax1.set_xticks([-0.4,-0.3,-0.2,-0.1, 0, 0.1,0.2, 0.3,0.4,0.5, 0.6, 0.7,0.8,\\\n",
        "                    0.9, 1])\n",
        "#plt.xticks(fontsize=16)\n",
        "plt.xticks(fontsize=34)\n",
        "plt.suptitle((\"Silhouette analysis for kmeans clusterization \"\n",
        "               \"with n_clusters = %d\" % cluster_number),\n",
        "              fontsize=28, fontweight='bold')\n",
        "\n",
        " #plt.show()\n",
        "   \n"
      ],
      "execution_count": null,
      "outputs": []
    },
    {
      "cell_type": "markdown",
      "metadata": {
        "id": "G3O0fvTH_ONW"
      },
      "source": [
        "## Cálculo de coeficiente de compacidad\n",
        "*mean intra-cluster distance (a)*\n",
        "Para cada curva, calcularemos el coeficiente ai, el cual es el promedio de las distancias a todos los elementos del cluster que la contiene\n"
      ]
    },
    {
      "cell_type": "markdown",
      "metadata": {
        "id": "XJwCthYchQjL"
      },
      "source": [
        "### kmeans, mean intra-cluster distance (a) for each sample\n"
      ]
    },
    {
      "cell_type": "code",
      "metadata": {
        "id": "915bQgk7_AbT"
      },
      "source": [
        "# Ingredientes\n",
        "## labels  --> Contiene los indices de la clusterización, labels es un arreglo \n",
        "#              con la misma cantidad de elementos que poligonales. Cada entrada k de labels dice \n",
        "#              el indice del cluster al que pertenece la poligonal número k.\n",
        "## X_numpy --> las poligonales en forma compleja\n",
        "silhuette_a=[]\n",
        "for i in range(len(X_numpy)):\n",
        "  cpoli=X_numpy[i,:]   # tomo una curva\n",
        "  label_cpoli=labels_aux[i]      # miro a que cluster pertenece\n",
        "  aux=labels_aux==label_cpoli    # Guardo los indices de las curvas que están en el mismo cluster\n",
        "  aux[i]=False               # quito el indice de cpoli\n",
        "  cluster_cpoli=X_numpy[aux,:] # Tomo el cluster que contiene a la poligonal\n",
        "  # Usamos la función que calcula distancias de una poligonal a una matriz de poligonales\n",
        "  if len(cluster_cpoli)==0: # En este caso el cluster tiene una sola curva\n",
        "    mean_distai=0\n",
        "  else:\n",
        "    [mean_distai,min_distai]=dist_pol(cpoli, cluster_cpoli)\n",
        "  \n",
        "  #almacenamos estos coeficientes\n",
        "  silhuette_a.append(mean_distai)\n",
        "\n"
      ],
      "execution_count": null,
      "outputs": []
    },
    {
      "cell_type": "markdown",
      "metadata": {
        "id": "CoxTsz6I68_5"
      },
      "source": [
        "#### Gráfico de comparación silhuette (a)"
      ]
    },
    {
      "cell_type": "code",
      "metadata": {
        "id": "r2X0xJ9U7Djl"
      },
      "source": [
        "#print(sample_silhouette_values)\n",
        "sample_silhouette_values_a = np.asarray(silhuette_a)\n",
        "\n",
        "fig, ax1 = plt.subplots(1, 1)\n",
        "fig.set_size_inches(36, 100)\n",
        "\n",
        "    # The 1st subplot is the silhouette plot\n",
        "    # The silhouette coefficient can range from -1, 1 but in this example all\n",
        "    # lie within [-0.1, 1]\n",
        "ax1.set_xlim([-0.5, 1.5])\n",
        "    # The (n_clusters+1)*10 is for inserting blank space between silhouette\n",
        "    # plots of individual clusters, to demarcate them clearly.\n",
        "space_cluster=75\n",
        "ax1.set_ylim([0, len(X_numpy) + (cluster_number + 1) * space_cluster])\n",
        "y_lower = space_cluster\n",
        "color_option=['green', 'blue'] \n",
        "for i in range(cluster_number):\n",
        "    # Aggregate the silhouette scores for samples belonging to\n",
        "    # cluster i, and sort them\n",
        "    ith_cluster_silhouette_values_a = \\\n",
        "      sample_silhouette_values_a[labels_aux == i]\n",
        "    \n",
        "    ith_cluster_silhouette_values_a.sort()\n",
        "\n",
        "    size_cluster_i = ith_cluster_silhouette_values_a.shape[0]\n",
        "    y_upper = y_lower + size_cluster_i\n",
        "    \n",
        "  \n",
        "    #color = cm.nipy_spectral(float(i) / cluster_number)  #Colormap type\n",
        "    color=color_option[i % 2]\n",
        "    ax1.fill_betweenx(np.arange(y_lower, y_upper),\n",
        "                      0, ith_cluster_silhouette_values_a,\n",
        "                      facecolor=color, edgecolor=color, alpha=0.7)\n",
        "    # Pintamos también el promedio de los coeficientes silhuette en cada cluster\n",
        "    #ax1.axvline(x=silhouette_avg, color=\"red\", linestyle=\"--\")\n",
        "    mpc=np.mean(sample_silhouette_values_a[labels_aux == i]) #mean per cluster\n",
        "    #ax1.axvline(x=mpc, ymin=y_lower, ymax=y_lower+size_cluster_i, color=\"red\", linestyle=\"--\")\n",
        "    ax1.plot([mpc, mpc],[y_lower, y_lower+size_cluster_i], \\\n",
        "             color=\"green\", linestyle=\"--\",linewidth=4)\n",
        "\n",
        "\n",
        "   # Label the silhouette plots with their cluster numbers at the middle\n",
        "    if size_cluster_i < 5:\n",
        "      if i % 2 == 1: # para escribir solo los impares\n",
        "        ax1.text(-0.4, y_lower + 0.5 * size_cluster_i, 'C'+str(i)+' with '+str(size_cluster_i),size=20)\n",
        "        ax1.plot([mpc],[y_lower],'og')\n",
        "      else:\n",
        "        ax1.plot([mpc],[y_lower],'og')\n",
        "    elif size_cluster_i < 10:\n",
        "      if i % 2 == 1: # para escribir solo los impares\n",
        "        ax1.text(-0.4, y_lower + 0.5 * size_cluster_i, 'C'+str(i)+' with '+str(size_cluster_i),size=20)\n",
        "        ax1.plot([mpc],[y_lower],'og')\n",
        "      else:\n",
        "        ax1.plot([mpc],[y_lower],'og')\n",
        "    elif size_cluster_i < 20:\n",
        "      if i % 2 == 1: # para escribir solo los impares\n",
        "        ax1.text(-0.4, y_lower + 0.5 * size_cluster_i, 'C'+str(i)+' with '+str(size_cluster_i),size=20)\n",
        "        ax1.plot([mpc],[y_lower],'og')\n",
        "      else:\n",
        "        ax1.plot([mpc],[y_lower],'og')\n",
        "    elif size_cluster_i < 50:\n",
        "      if i % 2 == 1: # para escribir solo los impares\n",
        "        ax1.text(-0.4, y_lower + 0.5 * size_cluster_i, 'C'+str(i)+' with '+str(size_cluster_i),size=20)\n",
        "        ax1.plot([mpc],[y_lower],'og')\n",
        "      else: \n",
        "        ax1.plot([mpc],[y_lower],'og') \n",
        "    elif size_cluster_i < 100:\n",
        "      ax1.text(-0.4, y_lower + 0.5 * size_cluster_i, 'C'+str(i)+' with '+str(size_cluster_i),size=20)\n",
        "    elif size_cluster_i < 500:\n",
        "      ax1.text(-0.4, y_lower + 0.5 * size_cluster_i, 'C'+str(i)+' with '+str(size_cluster_i),size=27)\n",
        "    elif size_cluster_i < 1000:\n",
        "      ax1.text(-0.4, y_lower + 0.5 * size_cluster_i, 'C'+str(i)+' with '+str(size_cluster_i),size=35)\n",
        "    else:\n",
        "      ax1.text(-0.4, y_lower + 0.5 * size_cluster_i, 'C'+str(i)+' with '+str(size_cluster_i),size=40)\n",
        "\n",
        "    # Compute the new y_lower for next plot\n",
        "    y_lower = y_upper + space_cluster  # 10 for the 0 samples\n",
        "\n",
        "ax1.set_title(\"The silhouette intra mean-coefficient plot for the various clusters.\",fontsize=36)\n",
        "ax1.set_xlabel(\"The silhouette intra-mean coefficient values\",fontsize=36)\n",
        "ax1.set_ylabel(\"Cluster label\",fontsize=36)\n",
        "\n",
        "silhouette_avg_a=np.mean(sample_silhouette_values_a)\n",
        "    # The vertical line for average silhouette score of all the values\n",
        "ax1.axvline(x=silhouette_avg_a, color=\"red\", linestyle=\"--\")\n",
        "\n",
        "ax1.set_yticks([])  # Clear the yaxis labels / ticks\n",
        "ax1.set_xticks([-0.4,-0.2, 0, 0.2,0.4, 0.6,0.8,1, 1.2, 1.4])\n",
        "                   \n",
        "#plt.xticks(fontsize=16)\n",
        "plt.xticks(fontsize=34)\n",
        "plt.suptitle((\"a-Silhouette analysis for KMeans clusterization \"\n",
        "               \"with n_clusters = %d\" % cluster_number),\n",
        "              fontsize=28, fontweight='bold')"
      ],
      "execution_count": null,
      "outputs": []
    },
    {
      "cell_type": "markdown",
      "metadata": {
        "id": "RKIp_onI_aa1"
      },
      "source": [
        "## Cálculo del coeficiente de separación de clusters\n",
        "*mean nearest-cluster distance (b)* \n",
        "Para cada poligonal buscaremos la distancia de esa poligonal a cada una de las curvas de los otros cluster (en los que no están contenidas). Entre mas grande sea este valos mejor es la clusterización."
      ]
    },
    {
      "cell_type": "markdown",
      "metadata": {
        "id": "vVR6P5MrEQOV"
      },
      "source": [
        "### kmeans, mean nearest-cluster distance (b) for each sample"
      ]
    },
    {
      "cell_type": "code",
      "metadata": {
        "id": "0t6QzOxkEuT3"
      },
      "source": [
        "# Ingredientes\n",
        "## labels  --> Contiene los indices de la clusterización, labels es un arreglo \n",
        "#              con la misma cantidad de elementos que poligonales. Cada entrada k de labels dice \n",
        "#              el indice del cluster al que pertenece la poligonal número k.\n",
        "## X_numpy --> las poligonales en forma compleja\n",
        "\n",
        "# Parte 1, agrupacón de clusters\n",
        "clusters_pack = [X_numpy[labels_aux==i] for i in range(cluster_number)]\n",
        "\n",
        "silhuette_b=[]\n",
        "for i in range(len(X_numpy)):\n",
        "  cpoli=X_numpy[i,:]   # tomo una curva\n",
        "  label_cpoli=labels_aux[i]      # miro a que cluster pertenece\n",
        "  silhuette_aux_b=[]\n",
        "  for k in range(cluster_number):\n",
        "    if k!=label_cpoli:\n",
        "      clusterk=clusters_pack[k]\n",
        "      (mean_distk,min_distk)=dist_pol(cpoli, clusterk)\n",
        "      silhuette_aux_b.append(mean_distk)\n",
        "\n",
        "  \n",
        "  silhuette_b.append(min(silhuette_aux_b))\n",
        "\n"
      ],
      "execution_count": null,
      "outputs": []
    },
    {
      "cell_type": "markdown",
      "metadata": {
        "id": "KDb3YakSedG3"
      },
      "source": [
        "#### Gráfico de comparación silhueete (b)"
      ]
    },
    {
      "cell_type": "code",
      "metadata": {
        "id": "bJB3e-QPZEq4"
      },
      "source": [
        "#print(sample_silhouette_values)\n",
        "sample_silhouette_values_b = np.asarray(silhuette_b)\n",
        "\n",
        "fig, ax1 = plt.subplots(1, 1)\n",
        "fig.set_size_inches(36, 100)\n",
        "\n",
        "    # The 1st subplot is the silhouette plot\n",
        "    # The silhouette coefficient can range from -1, 1 but in this example all\n",
        "    # lie within [-0.1, 1]\n",
        "ax1.set_xlim([-0.5, 1.5])\n",
        "    # The (n_clusters+1)*10 is for inserting blank space between silhouette\n",
        "    # plots of individual clusters, to demarcate them clearly.\n",
        "space_cluster=75\n",
        "ax1.set_ylim([0, len(X_numpy) + (cluster_number + 1) * space_cluster])\n",
        "y_lower = space_cluster\n",
        "color_option=['green', 'blue'] \n",
        "for i in range(cluster_number):\n",
        "    # Aggregate the silhouette scores for samples belonging to\n",
        "    # cluster i, and sort them\n",
        "    ith_cluster_silhouette_values_b = \\\n",
        "      sample_silhouette_values_b[labels_aux == i]\n",
        "    \n",
        "    ith_cluster_silhouette_values_b.sort()\n",
        "\n",
        "    size_cluster_i = ith_cluster_silhouette_values_b.shape[0]\n",
        "    y_upper = y_lower + size_cluster_i\n",
        "    \n",
        "  \n",
        "    #color = cm.nipy_spectral(float(i) / cluster_number)  #Colormap type\n",
        "    color=color_option[i % 2]\n",
        "    ax1.fill_betweenx(np.arange(y_lower, y_upper),\n",
        "                      0, ith_cluster_silhouette_values_b,\n",
        "                      facecolor=color, edgecolor=color, alpha=0.7)\n",
        "    \n",
        "    # Pintamos también el promedio de los coeficientes silhuette en cada cluster\n",
        "    #ax1.axvline(x=silhouette_avg, color=\"red\", linestyle=\"--\")\n",
        "    mpc=np.mean(sample_silhouette_values_b[labels_aux == i]) #mean per cluster\n",
        "    #ax1.axvline(x=mpc, ymin=y_lower, ymax=y_lower+size_cluster_i, color=\"red\", linestyle=\"--\")\n",
        "    ax1.plot([mpc, mpc],[y_lower, y_lower+size_cluster_i], \\\n",
        "             color=\"green\", linestyle=\"--\",linewidth=4)\n",
        "\n",
        "\n",
        "    # Label the silhouette plots with their cluster numbers at the middle\n",
        "    if size_cluster_i < 5:\n",
        "      if i % 2 == 1: # para escribir solo los impares\n",
        "        ax1.text(-0.4, y_lower + 0.5 * size_cluster_i, 'C'+str(i)+' with '+str(size_cluster_i),size=20)\n",
        "        ax1.plot([mpc],[y_lower],'og')\n",
        "      else:\n",
        "        ax1.plot([mpc],[y_lower],'og')\n",
        "    elif size_cluster_i < 10:\n",
        "      if i % 2 == 1: # para escribir solo los impares\n",
        "        ax1.text(-0.4, y_lower + 0.5 * size_cluster_i, 'C'+str(i)+' with '+str(size_cluster_i),size=20)\n",
        "        ax1.plot([mpc],[y_lower],'og')\n",
        "      else:\n",
        "        ax1.plot([mpc],[y_lower],'og')\n",
        "    elif size_cluster_i < 20:\n",
        "      if i % 2 == 1: # para escribir solo los impares\n",
        "        ax1.text(-0.4, y_lower + 0.5 * size_cluster_i, 'C'+str(i)+' with '+str(size_cluster_i),size=20)\n",
        "        ax1.plot([mpc],[y_lower],'og')\n",
        "      else:\n",
        "        ax1.plot([mpc],[y_lower],'og')\n",
        "    elif size_cluster_i < 50:\n",
        "      if i % 2 == 1: # para escribir solo los impares\n",
        "        ax1.text(-0.4, y_lower + 0.5 * size_cluster_i, 'C'+str(i)+' with '+str(size_cluster_i),size=20)\n",
        "        ax1.plot([mpc],[y_lower],'og')\n",
        "      else: \n",
        "        ax1.plot([mpc],[y_lower],'og') \n",
        "    elif size_cluster_i < 100:\n",
        "      ax1.text(-0.4, y_lower + 0.5 * size_cluster_i, 'C'+str(i)+' with '+str(size_cluster_i),size=20)\n",
        "    elif size_cluster_i < 500:\n",
        "      ax1.text(-0.4, y_lower + 0.5 * size_cluster_i, 'C'+str(i)+' with '+str(size_cluster_i),size=27)\n",
        "    elif size_cluster_i < 1000:\n",
        "      ax1.text(-0.4, y_lower + 0.5 * size_cluster_i, 'C'+str(i)+' with '+str(size_cluster_i),size=35)\n",
        "    else:\n",
        "      ax1.text(-0.4, y_lower + 0.5 * size_cluster_i, 'C'+str(i)+' with '+str(size_cluster_i),size=40)\n",
        "\n",
        "    # Compute the new y_lower for next plot\n",
        "    y_lower = y_upper + space_cluster  # 10 for the 0 samples\n",
        "\n",
        "ax1.set_title(\"The silhouette mean - nearest -clusterdistance plot for the various clusters.\",fontsize=36)\n",
        "ax1.set_xlabel(\"The silhouette mean - nearest -clusterdistance values\",fontsize=36)\n",
        "ax1.set_ylabel(\"Cluster label\",fontsize=36)\n",
        "silhouette_avg_b=np.mean(sample_silhouette_values_b)\n",
        "    # The vertical line for average silhouette score of all the values\n",
        "ax1.axvline(x=silhouette_avg_b, color=\"red\", linestyle=\"--\")\n",
        "\n",
        "ax1.set_yticks([])  # Clear the yaxis labels / ticks\n",
        "#ax1.set_xticks([ 0, 0.5,1, 1.5,2,2.5, 3, 3.5,4,4.5, 5])\n",
        "#ax1.set_xticks([ 0, 0.2,0.4, 0.6,0.8,1, 1.2, 1.4,1.6,1.8,2,2.2,2.4,2.6,2.8,3])\n",
        "ax1.set_xticks([ -0.4,-0.2,0, 0.2,0.4, 0.6,0.8,1, 1.2, 1.4])\n",
        "\n",
        "#plt.xticks(fontsize=16)\n",
        "plt.xticks(fontsize=34)\n",
        "plt.suptitle((\"b-Silhouette analysis for KMeans clusterization \"\n",
        "               \"with n_clusters = %d\" % cluster_number),\n",
        "              fontsize=28, fontweight='bold')"
      ],
      "execution_count": null,
      "outputs": []
    },
    {
      "cell_type": "markdown",
      "metadata": {
        "id": "KiPzOjVItCKL"
      },
      "source": [
        "# Graficos de clusters\n",
        "Escogemos 20 cluster aleatorios y los desplegamos"
      ]
    }
  ]
}